{
 "cells": [
  {
   "attachments": {},
   "cell_type": "markdown",
   "metadata": {},
   "source": [
    "# Multiple Linear Regression"
   ]
  },
  {
   "attachments": {},
   "cell_type": "markdown",
   "metadata": {},
   "source": [
    "## Importing the Libraries"
   ]
  },
  {
   "cell_type": "code",
   "execution_count": 54,
   "metadata": {},
   "outputs": [],
   "source": [
    "import numpy as np\n",
    "import matplotlib.pyplot as plt\n",
    "import pandas as pd"
   ]
  },
  {
   "attachments": {},
   "cell_type": "markdown",
   "metadata": {},
   "source": [
    "## Importing the Data Set"
   ]
  },
  {
   "cell_type": "code",
   "execution_count": 55,
   "metadata": {},
   "outputs": [],
   "source": [
    "Data=pd.read_csv(\"MRData.csv\")\n",
    "X=Data.iloc[:,:-1].values\n",
    "Y=Data.iloc[:,-1].values\n"
   ]
  },
  {
   "cell_type": "code",
   "execution_count": 56,
   "metadata": {},
   "outputs": [
    {
     "name": "stdout",
     "output_type": "stream",
     "text": [
      "[[10 'Moderate' 0 97]\n",
      " [80 'High' 0 92]\n",
      " [10 'Low' 0 97]\n",
      " [81 'High' 4 75]\n",
      " [12 'Moderate' 0 97]\n",
      " [18 'Low' 0 66]\n",
      " [13 'Moderate' 0 93]\n",
      " [94 'High' 4 64]\n",
      " [86 'High' 2 76]\n",
      " [20 'Moderate' 0 92]\n",
      " [15 'Moderate' 0 94]\n",
      " [15 'Moderate' 0 92]\n",
      " [16 'Low' 0 92]\n",
      " [17 'Moderate' 0 93]\n",
      " [18 'Moderate' 0 93]\n",
      " [19 'Moderate' 0 92]\n",
      " [19 'Moderate' 0 89]\n",
      " [12 'Moderate' 0 97]\n",
      " [20 'Moderate' 0 93]\n",
      " [24 'Moderate' 0 92]\n",
      " [25 'Moderate' 0 93]\n",
      " [59 'High' 2 68]\n",
      " [63 'High' 1 66]\n",
      " [25 'Moderate' 1 62]\n",
      " [26 'High' 0 94]\n",
      " [26 'Low' 0 97]\n",
      " [28 'Moderate' 0 99]\n",
      " [59 'High' 0 69]\n",
      " [28 'Moderate' 0 89]\n",
      " [29 'Moderate' 0 93]\n",
      " [48 'Moderate' 0 93]\n",
      " [30 'Moderate' 0 62]\n",
      " [30 'Moderate' 0 86]\n",
      " [32 'Moderate' 0 84]\n",
      " [34 'Moderate' 1 90]\n",
      " [35 'Moderate' 0 89]\n",
      " [50 'High' 2 77]\n",
      " [56 'High' 2 76]\n",
      " [56 'High' 1 77]\n",
      " [36 'High' 1 90]\n",
      " [38 'High' 2 75]\n",
      " [40 'Moderate' 0 90]\n",
      " [40 'High' 0 92]\n",
      " [61 'High' 2 76]\n",
      " [42 'High' 0 92]\n",
      " [46 'High' 0 91]\n",
      " [49 'Moderate' 0 80]\n",
      " [52 'High' 1 80]\n",
      " [32 'Moderate' 0 89]\n",
      " [53 'High' 1 55]\n",
      " [54 'High' 1 70]\n",
      " [90 'High' 3 67]\n",
      " [78 'High' 2 71]\n",
      " [58 'High' 0 70]\n",
      " [60 'High' 1 68]\n",
      " [61 'Moderate' 0 90]\n",
      " [62 'High' 1 68]\n",
      " [86 'High' 3 71]\n",
      " [62 'High' 2 69]\n",
      " [64 'High' 1 73]\n",
      " [68 'High' 1 67]\n",
      " [69 'High' 0 53]\n",
      " [70 'Moderate' 1 88]\n",
      " [74 'High' 2 75]\n",
      " [75 'High' 1 72]\n",
      " [76 'High' 4 80]\n",
      " [35 'Moderate' 0 92]\n",
      " [13 'Moderate' 0 94]\n",
      " [82 'High' 3 73]\n",
      " [84 'High' 3 75]]\n"
     ]
    }
   ],
   "source": [
    "print(X)"
   ]
  },
  {
   "attachments": {},
   "cell_type": "markdown",
   "metadata": {},
   "source": [
    "## Encoding Categorical Data"
   ]
  },
  {
   "cell_type": "code",
   "execution_count": 57,
   "metadata": {},
   "outputs": [],
   "source": [
    "from sklearn.compose import ColumnTransformer\n",
    "from sklearn.preprocessing import OneHotEncoder\n",
    "cd=ColumnTransformer(transformers=[('encoder', OneHotEncoder(),[1])], remainder='passthrough')\n",
    "X=np.array(cd.fit_transform(X))"
   ]
  },
  {
   "attachments": {},
   "cell_type": "markdown",
   "metadata": {},
   "source": [
    "Here in the place of 1 we can give a list of indexes so that all the columns will be encoding into categorically with 1's,0's."
   ]
  },
  {
   "cell_type": "code",
   "execution_count": 33,
   "metadata": {},
   "outputs": [
    {
     "name": "stdout",
     "output_type": "stream",
     "text": [
      "[[0.0 0.0 1.0 10 0 97]\n",
      " [1.0 0.0 0.0 80 0 92]\n",
      " [0.0 1.0 0.0 10 0 97]\n",
      " [1.0 0.0 0.0 81 4 75]\n",
      " [0.0 0.0 1.0 12 0 97]\n",
      " [0.0 1.0 0.0 18 0 66]\n",
      " [0.0 0.0 1.0 13 0 93]\n",
      " [1.0 0.0 0.0 94 4 64]\n",
      " [1.0 0.0 0.0 86 2 76]\n",
      " [0.0 0.0 1.0 20 0 92]\n",
      " [0.0 0.0 1.0 15 0 94]\n",
      " [0.0 0.0 1.0 15 0 92]\n",
      " [0.0 1.0 0.0 16 0 92]\n",
      " [0.0 0.0 1.0 17 0 93]\n",
      " [0.0 0.0 1.0 18 0 93]\n",
      " [0.0 0.0 1.0 19 0 92]\n",
      " [0.0 0.0 1.0 19 0 89]\n",
      " [0.0 0.0 1.0 12 0 97]\n",
      " [0.0 0.0 1.0 20 0 93]\n",
      " [0.0 0.0 1.0 24 0 92]\n",
      " [0.0 0.0 1.0 25 0 93]\n",
      " [1.0 0.0 0.0 59 2 68]\n",
      " [1.0 0.0 0.0 63 1 66]\n",
      " [0.0 0.0 1.0 25 1 62]\n",
      " [1.0 0.0 0.0 26 0 94]\n",
      " [0.0 1.0 0.0 26 0 97]\n",
      " [0.0 0.0 1.0 28 0 99]\n",
      " [1.0 0.0 0.0 59 0 69]\n",
      " [0.0 0.0 1.0 28 0 89]\n",
      " [0.0 0.0 1.0 29 0 93]\n",
      " [0.0 0.0 1.0 48 0 93]\n",
      " [0.0 0.0 1.0 30 0 62]\n",
      " [0.0 0.0 1.0 30 0 86]\n",
      " [0.0 0.0 1.0 32 0 84]\n",
      " [0.0 0.0 1.0 34 1 90]\n",
      " [0.0 0.0 1.0 35 0 89]\n",
      " [1.0 0.0 0.0 50 2 77]\n",
      " [1.0 0.0 0.0 56 2 76]\n",
      " [1.0 0.0 0.0 56 1 77]\n",
      " [1.0 0.0 0.0 36 1 90]\n",
      " [1.0 0.0 0.0 38 2 75]\n",
      " [0.0 0.0 1.0 40 0 90]\n",
      " [1.0 0.0 0.0 40 0 92]\n",
      " [1.0 0.0 0.0 61 2 76]\n",
      " [1.0 0.0 0.0 42 0 92]\n",
      " [1.0 0.0 0.0 46 0 91]\n",
      " [0.0 0.0 1.0 49 0 80]\n",
      " [1.0 0.0 0.0 52 1 80]\n",
      " [0.0 0.0 1.0 32 0 89]\n",
      " [1.0 0.0 0.0 53 1 55]\n",
      " [1.0 0.0 0.0 54 1 70]\n",
      " [1.0 0.0 0.0 90 3 67]\n",
      " [1.0 0.0 0.0 78 2 71]\n",
      " [1.0 0.0 0.0 58 0 70]\n",
      " [1.0 0.0 0.0 60 1 68]\n",
      " [0.0 0.0 1.0 61 0 90]\n",
      " [1.0 0.0 0.0 62 1 68]\n",
      " [1.0 0.0 0.0 86 3 71]\n",
      " [1.0 0.0 0.0 62 2 69]\n",
      " [1.0 0.0 0.0 64 1 73]\n",
      " [1.0 0.0 0.0 68 1 67]\n",
      " [1.0 0.0 0.0 69 0 53]\n",
      " [0.0 0.0 1.0 70 1 88]\n",
      " [1.0 0.0 0.0 74 2 75]\n",
      " [1.0 0.0 0.0 75 1 72]\n",
      " [1.0 0.0 0.0 76 4 80]\n",
      " [0.0 0.0 1.0 35 0 92]\n",
      " [0.0 0.0 1.0 13 0 94]\n",
      " [1.0 0.0 0.0 82 3 73]\n",
      " [1.0 0.0 0.0 84 3 75]]\n"
     ]
    }
   ],
   "source": [
    "print(X)"
   ]
  },
  {
   "attachments": {},
   "cell_type": "markdown",
   "metadata": {},
   "source": [
    "**Here the body temperature is categorized into 3 Seperate columns. In that one column isn't needed.\n",
    "Because in the 3 features created if in both the features are **0** then automatically the other one is **1**. So there will be a relationship between the features. So We must delete the column in it."
   ]
  },
  {
   "cell_type": "code",
   "execution_count": 58,
   "metadata": {},
   "outputs": [
    {
     "name": "stdout",
     "output_type": "stream",
     "text": [
      "[[0.0 0.0 10 0 97]\n",
      " [1.0 0.0 80 0 92]\n",
      " [0.0 1.0 10 0 97]\n",
      " [1.0 0.0 81 4 75]\n",
      " [0.0 0.0 12 0 97]\n",
      " [0.0 1.0 18 0 66]\n",
      " [0.0 0.0 13 0 93]\n",
      " [1.0 0.0 94 4 64]\n",
      " [1.0 0.0 86 2 76]\n",
      " [0.0 0.0 20 0 92]\n",
      " [0.0 0.0 15 0 94]\n",
      " [0.0 0.0 15 0 92]\n",
      " [0.0 1.0 16 0 92]\n",
      " [0.0 0.0 17 0 93]\n",
      " [0.0 0.0 18 0 93]\n",
      " [0.0 0.0 19 0 92]\n",
      " [0.0 0.0 19 0 89]\n",
      " [0.0 0.0 12 0 97]\n",
      " [0.0 0.0 20 0 93]\n",
      " [0.0 0.0 24 0 92]\n",
      " [0.0 0.0 25 0 93]\n",
      " [1.0 0.0 59 2 68]\n",
      " [1.0 0.0 63 1 66]\n",
      " [0.0 0.0 25 1 62]\n",
      " [1.0 0.0 26 0 94]\n",
      " [0.0 1.0 26 0 97]\n",
      " [0.0 0.0 28 0 99]\n",
      " [1.0 0.0 59 0 69]\n",
      " [0.0 0.0 28 0 89]\n",
      " [0.0 0.0 29 0 93]\n",
      " [0.0 0.0 48 0 93]\n",
      " [0.0 0.0 30 0 62]\n",
      " [0.0 0.0 30 0 86]\n",
      " [0.0 0.0 32 0 84]\n",
      " [0.0 0.0 34 1 90]\n",
      " [0.0 0.0 35 0 89]\n",
      " [1.0 0.0 50 2 77]\n",
      " [1.0 0.0 56 2 76]\n",
      " [1.0 0.0 56 1 77]\n",
      " [1.0 0.0 36 1 90]\n",
      " [1.0 0.0 38 2 75]\n",
      " [0.0 0.0 40 0 90]\n",
      " [1.0 0.0 40 0 92]\n",
      " [1.0 0.0 61 2 76]\n",
      " [1.0 0.0 42 0 92]\n",
      " [1.0 0.0 46 0 91]\n",
      " [0.0 0.0 49 0 80]\n",
      " [1.0 0.0 52 1 80]\n",
      " [0.0 0.0 32 0 89]\n",
      " [1.0 0.0 53 1 55]\n",
      " [1.0 0.0 54 1 70]\n",
      " [1.0 0.0 90 3 67]\n",
      " [1.0 0.0 78 2 71]\n",
      " [1.0 0.0 58 0 70]\n",
      " [1.0 0.0 60 1 68]\n",
      " [0.0 0.0 61 0 90]\n",
      " [1.0 0.0 62 1 68]\n",
      " [1.0 0.0 86 3 71]\n",
      " [1.0 0.0 62 2 69]\n",
      " [1.0 0.0 64 1 73]\n",
      " [1.0 0.0 68 1 67]\n",
      " [1.0 0.0 69 0 53]\n",
      " [0.0 0.0 70 1 88]\n",
      " [1.0 0.0 74 2 75]\n",
      " [1.0 0.0 75 1 72]\n",
      " [1.0 0.0 76 4 80]\n",
      " [0.0 0.0 35 0 92]\n",
      " [0.0 0.0 13 0 94]\n",
      " [1.0 0.0 82 3 73]\n",
      " [1.0 0.0 84 3 75]]\n"
     ]
    }
   ],
   "source": [
    "Data1=np.delete(X,2,1)\n",
    "print(Data1)"
   ]
  },
  {
   "attachments": {},
   "cell_type": "markdown",
   "metadata": {},
   "source": [
    "## Splitting the Data into training and testing dataset."
   ]
  },
  {
   "cell_type": "code",
   "execution_count": 99,
   "metadata": {},
   "outputs": [],
   "source": [
    "from sklearn.model_selection import train_test_split\n",
    "X_train,X_test,Y_train,Y_test=train_test_split(Data1,Y,test_size=0.4,random_state=23)"
   ]
  },
  {
   "attachments": {},
   "cell_type": "markdown",
   "metadata": {},
   "source": [
    "## Training the Data"
   ]
  },
  {
   "cell_type": "code",
   "execution_count": 100,
   "metadata": {},
   "outputs": [
    {
     "name": "stdout",
     "output_type": "stream",
     "text": [
      "[[1.0 0.0 82 3 73]\n",
      " [0.0 0.0 18 0 93]\n",
      " [0.0 0.0 48 0 93]\n",
      " [1.0 0.0 74 2 75]\n",
      " [1.0 0.0 69 0 53]\n",
      " [0.0 0.0 17 0 93]\n",
      " [0.0 0.0 30 0 86]\n",
      " [0.0 0.0 15 0 94]\n",
      " [1.0 0.0 62 2 69]\n",
      " [1.0 0.0 76 4 80]\n",
      " [1.0 0.0 52 1 80]\n",
      " [1.0 0.0 63 1 66]\n",
      " [1.0 0.0 42 0 92]\n",
      " [1.0 0.0 40 0 92]\n",
      " [1.0 0.0 80 0 92]\n",
      " [1.0 0.0 50 2 77]\n",
      " [0.0 0.0 70 1 88]\n",
      " [0.0 0.0 35 0 92]\n",
      " [0.0 0.0 32 0 84]\n",
      " [0.0 0.0 24 0 92]\n",
      " [0.0 0.0 28 0 99]\n",
      " [0.0 0.0 19 0 92]\n",
      " [0.0 0.0 40 0 90]\n",
      " [0.0 0.0 32 0 89]\n",
      " [1.0 0.0 62 1 68]\n",
      " [1.0 0.0 68 1 67]\n",
      " [0.0 0.0 10 0 97]\n",
      " [0.0 1.0 18 0 66]\n",
      " [1.0 0.0 59 2 68]\n",
      " [0.0 0.0 15 0 92]\n",
      " [0.0 1.0 10 0 97]\n",
      " [1.0 0.0 53 1 55]\n",
      " [0.0 1.0 16 0 92]\n",
      " [1.0 0.0 46 0 91]\n",
      " [1.0 0.0 64 1 73]\n",
      " [0.0 0.0 13 0 93]\n",
      " [1.0 0.0 90 3 67]\n",
      " [0.0 1.0 26 0 97]\n",
      " [1.0 0.0 36 1 90]\n",
      " [0.0 0.0 30 0 62]\n",
      " [1.0 0.0 60 1 68]\n",
      " [1.0 0.0 38 2 75]]\n"
     ]
    }
   ],
   "source": [
    "from sklearn.linear_model import LinearRegression\n",
    "c=LinearRegression()\n",
    "c.fit(X_train,Y_train)\n",
    "\n",
    "print(X_train)"
   ]
  },
  {
   "attachments": {},
   "cell_type": "markdown",
   "metadata": {},
   "source": [
    "## Prediction of Test set Results"
   ]
  },
  {
   "cell_type": "code",
   "execution_count": 101,
   "metadata": {},
   "outputs": [],
   "source": [
    "Y_pred=c.predict(X_test)\n"
   ]
  },
  {
   "attachments": {},
   "cell_type": "markdown",
   "metadata": {},
   "source": [
    "## Recognizing the Correct accuracy"
   ]
  },
  {
   "cell_type": "code",
   "execution_count": 102,
   "metadata": {},
   "outputs": [
    {
     "name": "stdout",
     "output_type": "stream",
     "text": [
      "[[100281.554  98101.   ]\n",
      " [ 77111.822  77010.   ]\n",
      " [107397.451 110911.   ]\n",
      " [ 67228.4    61082.   ]\n",
      " [ 80802.585  78010.   ]\n",
      " [ 97602.24   95010.   ]\n",
      " [ 46397.377  45019.   ]\n",
      " [107397.451 110911.   ]\n",
      " [100710.19   97101.   ]\n",
      " [ 68253.998  63091.   ]\n",
      " [ 73939.097  71191.   ]\n",
      " [ 42052.776  39010.   ]\n",
      " [ 43699.964  42099.   ]\n",
      " [ 67203.772  66019.   ]\n",
      " [ 29257.118  37914.   ]\n",
      " [ 89671.8    90124.   ]\n",
      " [ 40742.243  41891.   ]\n",
      " [ 98432.125  92010.   ]\n",
      " [ 55032.282  57019.   ]\n",
      " [ 99617.238  98081.   ]\n",
      " [ 68985.668  67010.   ]\n",
      " [ 87210.067  90001.   ]\n",
      " [ 95115.881  92101.   ]\n",
      " [ 65045.075  60801.   ]\n",
      " [ 61937.125  62019.   ]\n",
      " [ 94022.929  93091.   ]\n",
      " [105489.955 112101.   ]\n",
      " [ 49226.92   52001.   ]]\n"
     ]
    }
   ],
   "source": [
    "np.set_printoptions(precision= 3)\n",
    "print(np.concatenate((Y_pred.reshape(len(Y_pred), 1), Y_test.reshape(len(Y_test),1)), 1))"
   ]
  },
  {
   "attachments": {},
   "cell_type": "markdown",
   "metadata": {},
   "source": [
    "## Visualizing the results"
   ]
  },
  {
   "cell_type": "code",
   "execution_count": 103,
   "metadata": {},
   "outputs": [
    {
     "data": {
      "text/plain": [
       "<function matplotlib.pyplot.show(close=None, block=None)>"
      ]
     },
     "execution_count": 103,
     "metadata": {},
     "output_type": "execute_result"
    },
    {
     "data": {
      "image/png": "[encoded data removed]",
      "text/plain": [
       "<Figure size 640x480 with 1 Axes>"
      ]
     },
     "metadata": {},
     "output_type": "display_data"
    }
   ],
   "source": [
    "plt.plot(Y_pred)\n",
    "plt.plot(Y_test)\n",
    "plt.show"
   ]
  },
  {
   "cell_type": "code",
   "execution_count": 104,
   "metadata": {},
   "outputs": [
    {
     "data": {
      "text/plain": [
       "0.9757884356345478"
      ]
     },
     "execution_count": 104,
     "metadata": {},
     "output_type": "execute_result"
    }
   ],
   "source": [
    "from sklearn.metrics import r2_score\n",
    "r2_score(Y_pred,Y_test)"
   ]
  }
 ],
 "metadata": {
  "kernelspec": {
   "display_name": "Python 3",
   "language": "python",
   "name": "python3"
  },
  "language_info": {
   "codemirror_mode": {
    "name": "ipython",
    "version": 3
   },
   "file_extension": ".py",
   "mimetype": "text/x-python",
   "name": "python",
   "nbconvert_exporter": "python",
   "pygments_lexer": "ipython3",
   "version": "3.7.9"
  },
  "orig_nbformat": 4,
  "vscode": {
   "interpreter": {
    "hash": "d36921aac7f931c949b00da1cfa4569387a71405cc671e1cce853b57f6582956"
   }
  }
 },
 "nbformat": 4,
 "nbformat_minor": 2
}
